{
 "cells": [
  {
   "cell_type": "markdown",
   "id": "923166ef",
   "metadata": {},
   "source": [
    "# Predicting the Gasoline Consumption of Cars"
   ]
  },
  {
   "cell_type": "markdown",
   "id": "c0561179",
   "metadata": {},
   "source": [
    "In this notebook, we'll carry out exploratory analysis followed by modelling on gasoline consumption dataset(Data set from Neter, Kutner, Nachtsheim, & Wasserman)."
   ]
  },
  {
   "cell_type": "markdown",
   "id": "2965bf88",
   "metadata": {},
   "source": [
    "An automobile manufacturer studied the effects of differences between drivers (Driver) and cars (Car) on gasoline consumption. 4 drivers and 5 cars of the same model were part of the experiment. Each driver drove each car twice over a 40 mile test course and the miles per gallon (MPG) were recorded."
   ]
  },
  {
   "cell_type": "markdown",
   "id": "d906327f",
   "metadata": {},
   "source": [
    "The dataset contains 4 variables:\n",
    "1. MPG\n",
    "2. Driver\n",
    "3. Car\n",
    "4. Replicate"
   ]
  },
  {
   "cell_type": "markdown",
   "id": "59ca9607",
   "metadata": {},
   "source": [
    "Importing the dataset:"
   ]
  },
  {
   "cell_type": "code",
   "execution_count": 1,
   "id": "9c38c99b",
   "metadata": {},
   "outputs": [],
   "source": [
    "#install.packages(\"readxl\")\n",
    "library(readxl)\n",
    "mpg3 <- read_excel(\"C:/Users/91879/OneDrive/Documents/mpg3.xlsx\")"
   ]
  },
  {
   "cell_type": "markdown",
   "id": "d4e34d83",
   "metadata": {},
   "source": [
    "Examining the data types of the variables:"
   ]
  },
  {
   "cell_type": "code",
   "execution_count": 2,
   "id": "28b31225",
   "metadata": {},
   "outputs": [
    {
     "data": {
      "text/html": [
       "<dl>\n",
       "\t<dt>$MPG</dt>\n",
       "\t\t<dd>'numeric'</dd>\n",
       "\t<dt>$Driver</dt>\n",
       "\t\t<dd>'numeric'</dd>\n",
       "\t<dt>$Car</dt>\n",
       "\t\t<dd>'numeric'</dd>\n",
       "\t<dt>$Replicate</dt>\n",
       "\t\t<dd>'numeric'</dd>\n",
       "</dl>\n"
      ],
      "text/latex": [
       "\\begin{description}\n",
       "\\item[\\$MPG] 'numeric'\n",
       "\\item[\\$Driver] 'numeric'\n",
       "\\item[\\$Car] 'numeric'\n",
       "\\item[\\$Replicate] 'numeric'\n",
       "\\end{description}\n"
      ],
      "text/markdown": [
       "$MPG\n",
       ":   'numeric'\n",
       "$Driver\n",
       ":   'numeric'\n",
       "$Car\n",
       ":   'numeric'\n",
       "$Replicate\n",
       ":   'numeric'\n",
       "\n",
       "\n"
      ],
      "text/plain": [
       "$MPG\n",
       "[1] \"numeric\"\n",
       "\n",
       "$Driver\n",
       "[1] \"numeric\"\n",
       "\n",
       "$Car\n",
       "[1] \"numeric\"\n",
       "\n",
       "$Replicate\n",
       "[1] \"numeric\"\n"
      ]
     },
     "metadata": {},
     "output_type": "display_data"
    }
   ],
   "source": [
    "lapply(mpg3,class)"
   ]
  },
  {
   "cell_type": "markdown",
   "id": "008f033b",
   "metadata": {},
   "source": [
    "The variables Driver and Car have to be converted into factor variables."
   ]
  },
  {
   "cell_type": "code",
   "execution_count": 3,
   "id": "53429c7e",
   "metadata": {},
   "outputs": [
    {
     "data": {
      "text/html": [
       "<style>\n",
       ".dl-inline {width: auto; margin:0; padding: 0}\n",
       ".dl-inline>dt, .dl-inline>dd {float: none; width: auto; display: inline-block}\n",
       ".dl-inline>dt::after {content: \":\\0020\"; padding-right: .5ex}\n",
       ".dl-inline>dt:not(:first-of-type) {padding-left: .5ex}\n",
       "</style><dl class=dl-inline><dt>1</dt><dd>8</dd><dt>2</dt><dd>8</dd><dt>3</dt><dd>8</dd><dt>4</dt><dd>8</dd><dt>5</dt><dd>8</dd></dl>\n"
      ],
      "text/latex": [
       "\\begin{description*}\n",
       "\\item[1] 8\n",
       "\\item[2] 8\n",
       "\\item[3] 8\n",
       "\\item[4] 8\n",
       "\\item[5] 8\n",
       "\\end{description*}\n"
      ],
      "text/markdown": [
       "1\n",
       ":   82\n",
       ":   83\n",
       ":   84\n",
       ":   85\n",
       ":   8\n",
       "\n"
      ],
      "text/plain": [
       "1 2 3 4 5 \n",
       "8 8 8 8 8 "
      ]
     },
     "metadata": {},
     "output_type": "display_data"
    },
    {
     "data": {
      "text/html": [
       "<style>\n",
       ".dl-inline {width: auto; margin:0; padding: 0}\n",
       ".dl-inline>dt, .dl-inline>dd {float: none; width: auto; display: inline-block}\n",
       ".dl-inline>dt::after {content: \":\\0020\"; padding-right: .5ex}\n",
       ".dl-inline>dt:not(:first-of-type) {padding-left: .5ex}\n",
       "</style><dl class=dl-inline><dt>1</dt><dd>10</dd><dt>2</dt><dd>10</dd><dt>3</dt><dd>10</dd><dt>4</dt><dd>10</dd></dl>\n"
      ],
      "text/latex": [
       "\\begin{description*}\n",
       "\\item[1] 10\n",
       "\\item[2] 10\n",
       "\\item[3] 10\n",
       "\\item[4] 10\n",
       "\\end{description*}\n"
      ],
      "text/markdown": [
       "1\n",
       ":   102\n",
       ":   103\n",
       ":   104\n",
       ":   10\n",
       "\n"
      ],
      "text/plain": [
       " 1  2  3  4 \n",
       "10 10 10 10 "
      ]
     },
     "metadata": {},
     "output_type": "display_data"
    }
   ],
   "source": [
    "mpg3$Driver = factor(mpg3$Driver)\n",
    "mpg3$Car = factor(mpg3$Car)\n",
    "summary(mpg3$Car)\n",
    "summary(mpg3$Driver)"
   ]
  },
  {
   "cell_type": "markdown",
   "id": "3d276def",
   "metadata": {},
   "source": [
    "Checking the head of the dataframe:"
   ]
  },
  {
   "cell_type": "code",
   "execution_count": 4,
   "id": "801cefc3",
   "metadata": {},
   "outputs": [
    {
     "data": {
      "text/html": [
       "<table class=\"dataframe\">\n",
       "<caption>A tibble: 6 × 4</caption>\n",
       "<thead>\n",
       "\t<tr><th scope=col>MPG</th><th scope=col>Driver</th><th scope=col>Car</th><th scope=col>Replicate</th></tr>\n",
       "\t<tr><th scope=col>&lt;dbl&gt;</th><th scope=col>&lt;fct&gt;</th><th scope=col>&lt;fct&gt;</th><th scope=col>&lt;dbl&gt;</th></tr>\n",
       "</thead>\n",
       "<tbody>\n",
       "\t<tr><td>25.3</td><td>1</td><td>1</td><td>1</td></tr>\n",
       "\t<tr><td>25.2</td><td>1</td><td>1</td><td>2</td></tr>\n",
       "\t<tr><td>28.9</td><td>1</td><td>2</td><td>1</td></tr>\n",
       "\t<tr><td>30.0</td><td>1</td><td>2</td><td>2</td></tr>\n",
       "\t<tr><td>24.8</td><td>1</td><td>3</td><td>1</td></tr>\n",
       "\t<tr><td>25.1</td><td>1</td><td>3</td><td>2</td></tr>\n",
       "</tbody>\n",
       "</table>\n"
      ],
      "text/latex": [
       "A tibble: 6 × 4\n",
       "\\begin{tabular}{llll}\n",
       " MPG & Driver & Car & Replicate\\\\\n",
       " <dbl> & <fct> & <fct> & <dbl>\\\\\n",
       "\\hline\n",
       "\t 25.3 & 1 & 1 & 1\\\\\n",
       "\t 25.2 & 1 & 1 & 2\\\\\n",
       "\t 28.9 & 1 & 2 & 1\\\\\n",
       "\t 30.0 & 1 & 2 & 2\\\\\n",
       "\t 24.8 & 1 & 3 & 1\\\\\n",
       "\t 25.1 & 1 & 3 & 2\\\\\n",
       "\\end{tabular}\n"
      ],
      "text/markdown": [
       "\n",
       "A tibble: 6 × 4\n",
       "\n",
       "| MPG &lt;dbl&gt; | Driver &lt;fct&gt; | Car &lt;fct&gt; | Replicate &lt;dbl&gt; |\n",
       "|---|---|---|---|\n",
       "| 25.3 | 1 | 1 | 1 |\n",
       "| 25.2 | 1 | 1 | 2 |\n",
       "| 28.9 | 1 | 2 | 1 |\n",
       "| 30.0 | 1 | 2 | 2 |\n",
       "| 24.8 | 1 | 3 | 1 |\n",
       "| 25.1 | 1 | 3 | 2 |\n",
       "\n"
      ],
      "text/plain": [
       "  MPG  Driver Car Replicate\n",
       "1 25.3 1      1   1        \n",
       "2 25.2 1      1   2        \n",
       "3 28.9 1      2   1        \n",
       "4 30.0 1      2   2        \n",
       "5 24.8 1      3   1        \n",
       "6 25.1 1      3   2        "
      ]
     },
     "metadata": {},
     "output_type": "display_data"
    }
   ],
   "source": [
    "head(mpg3)"
   ]
  },
  {
   "cell_type": "markdown",
   "id": "ee3b5b7f",
   "metadata": {},
   "source": [
    "## Exploratory Analysis "
   ]
  },
  {
   "cell_type": "markdown",
   "id": "2a04f0f8",
   "metadata": {},
   "source": [
    "Let's start by checking how the mpg is distributed by plotting an Histogram."
   ]
  },
  {
   "cell_type": "code",
   "execution_count": 5,
   "id": "0f8606cd",
   "metadata": {},
   "outputs": [
    {
     "data": {
      "image/png": "[encoded data removed]",
      "text/plain": [
       "Plot with title \"Histogram of MPG\""
      ]
     },
     "metadata": {
      "image/png": {
       "height": 420,
       "width": 420
      }
     },
     "output_type": "display_data"
    }
   ],
   "source": [
    "attach(mpg3)\n",
    "hist(MPG,prob = TRUE,xlab = \"MPG\",main = \"Histogram of MPG\")\n",
    "lines(density(MPG), col=\"blue\", lwd=2)"
   ]
  },
  {
   "cell_type": "markdown",
   "id": "3950d048",
   "metadata": {},
   "source": [
    "The above histogram suggests that the MPG is Normally distributed.Let's validate this observation using a Quantile-quantile plot with theoretical quantiles of Normal distribution."
   ]
  },
  {
   "cell_type": "code",
   "execution_count": 6,
   "id": "a2863a25",
   "metadata": {},
   "outputs": [
    {
     "data": {
      "image/png": "[encoded data removed]",
      "text/plain": [
       "Plot with title \"Normal Q-Q Plot\""
      ]
     },
     "metadata": {
      "image/png": {
       "height": 420,
       "width": 420
      }
     },
     "output_type": "display_data"
    }
   ],
   "source": [
    "qqnorm(MPG)\n",
    "qqline(MPG, distribution = qnorm)"
   ]
  },
  {
   "cell_type": "markdown",
   "id": "eab2a77f",
   "metadata": {},
   "source": [
    "The overall pattern of the Q-Q plot is approximately linear indicating that the MPG is Normally distributed. This can be supported by Kolmogorov-Smirnov goodness of fit test(ks test).\n",
    "\n",
    "Firstly, a Normal distribution is to be fitted to the MPG by Maximum-Likelihood method and the parameters are estimated(MLE). The KS test is performed between MPG and the data simulated from Normal distribution with estimated parameters(MLE)."
   ]
  },
  {
   "cell_type": "code",
   "execution_count": 7,
   "id": "e00b6978",
   "metadata": {},
   "outputs": [
    {
     "name": "stderr",
     "output_type": "stream",
     "text": [
      "Warning message in ks.test(MPG, rnorm(1000, fit$estimate[1], fit$estimate[2])):\n",
      "\"p-value will be approximate in the presence of ties\"\n"
     ]
    },
    {
     "data": {
      "text/plain": [
       "\n",
       "\tTwo-sample Kolmogorov-Smirnov test\n",
       "\n",
       "data:  MPG and rnorm(1000, fit$estimate[1], fit$estimate[2])\n",
       "D = 0.109, p-value = 0.7507\n",
       "alternative hypothesis: two-sided\n"
      ]
     },
     "metadata": {},
     "output_type": "display_data"
    }
   ],
   "source": [
    "library(MASS)\n",
    "fit = fitdistr(MPG,\"normal\")\n",
    "ks.test(MPG,rnorm(1000,fit$estimate[1],fit$estimate[2]))"
   ]
  },
  {
   "cell_type": "markdown",
   "id": "1ecdee4e",
   "metadata": {},
   "source": [
    "The Null hypothesis of the KS test is that both the samples are drawn from the same distribution. The p-value >> 0.05 implies that the null hypothesis shouldn't be rejected and concludes the Normal distribution of MPG."
   ]
  },
  {
   "cell_type": "markdown",
   "id": "a9d1a2ed",
   "metadata": {},
   "source": [
    "Now let's compare the gasoline consumption of the 4 drivers."
   ]
  },
  {
   "cell_type": "code",
   "execution_count": 8,
   "id": "4bdd670a",
   "metadata": {},
   "outputs": [
    {
     "data": {
      "image/png": "[encoded data removed]",
      "text/plain": [
       "plot without title"
      ]
     },
     "metadata": {
      "image/png": {
       "height": 420,
       "width": 420
      }
     },
     "output_type": "display_data"
    }
   ],
   "source": [
    "boxplot(MPG ~ Driver,ylab = 'MPG')"
   ]
  },
  {
   "cell_type": "markdown",
   "id": "8db7745c",
   "metadata": {},
   "source": [
    "The above plot is a boxplot of MPG against drivers. The Gasoline consumption of driver-2 seems to be significantly higher than the other drivers. ANOVA test ($null hypothesis : \\mu_{1}=\\mu_{2}=\\mu_{3}=\\mu_{4}$) can be carried out to validate this observation."
   ]
  },
  {
   "cell_type": "code",
   "execution_count": 9,
   "id": "313516f3",
   "metadata": {},
   "outputs": [
    {
     "data": {
      "text/html": [
       "<table class=\"dataframe\">\n",
       "<caption>A anova: 2 × 5</caption>\n",
       "<thead>\n",
       "\t<tr><th></th><th scope=col>Df</th><th scope=col>Sum Sq</th><th scope=col>Mean Sq</th><th scope=col>F value</th><th scope=col>Pr(&gt;F)</th></tr>\n",
       "\t<tr><th></th><th scope=col>&lt;int&gt;</th><th scope=col>&lt;dbl&gt;</th><th scope=col>&lt;dbl&gt;</th><th scope=col>&lt;dbl&gt;</th><th scope=col>&lt;dbl&gt;</th></tr>\n",
       "</thead>\n",
       "<tbody>\n",
       "\t<tr><th scope=row>Driver</th><td> 3</td><td>280.2848</td><td>93.428250</td><td>33.40866</td><td>1.671672e-10</td></tr>\n",
       "\t<tr><th scope=row>Residuals</th><td>36</td><td>100.6750</td><td> 2.796528</td><td>      NA</td><td>          NA</td></tr>\n",
       "</tbody>\n",
       "</table>\n"
      ],
      "text/latex": [
       "A anova: 2 × 5\n",
       "\\begin{tabular}{r|lllll}\n",
       "  & Df & Sum Sq & Mean Sq & F value & Pr(>F)\\\\\n",
       "  & <int> & <dbl> & <dbl> & <dbl> & <dbl>\\\\\n",
       "\\hline\n",
       "\tDriver &  3 & 280.2848 & 93.428250 & 33.40866 & 1.671672e-10\\\\\n",
       "\tResiduals & 36 & 100.6750 &  2.796528 &       NA &           NA\\\\\n",
       "\\end{tabular}\n"
      ],
      "text/markdown": [
       "\n",
       "A anova: 2 × 5\n",
       "\n",
       "| <!--/--> | Df &lt;int&gt; | Sum Sq &lt;dbl&gt; | Mean Sq &lt;dbl&gt; | F value &lt;dbl&gt; | Pr(&gt;F) &lt;dbl&gt; |\n",
       "|---|---|---|---|---|---|\n",
       "| Driver |  3 | 280.2848 | 93.428250 | 33.40866 | 1.671672e-10 |\n",
       "| Residuals | 36 | 100.6750 |  2.796528 |       NA |           NA |\n",
       "\n"
      ],
      "text/plain": [
       "          Df Sum Sq   Mean Sq   F value  Pr(>F)      \n",
       "Driver     3 280.2848 93.428250 33.40866 1.671672e-10\n",
       "Residuals 36 100.6750  2.796528       NA           NA"
      ]
     },
     "metadata": {},
     "output_type": "display_data"
    }
   ],
   "source": [
    "anova(lm(MPG ~ Driver))"
   ]
  },
  {
   "cell_type": "markdown",
   "id": "b94e9521",
   "metadata": {},
   "source": [
    "The p-value of $1.672\\times10^{−10}$ suggests that there is a significant difference in gasoline consumption for atleast two drivers."
   ]
  },
  {
   "cell_type": "markdown",
   "id": "07269d16",
   "metadata": {},
   "source": [
    "Now let's compare the gasoline consumption of the 5 cars."
   ]
  },
  {
   "cell_type": "code",
   "execution_count": 10,
   "id": "05c1005b",
   "metadata": {},
   "outputs": [
    {
     "data": {
      "image/png": "[encoded data removed]",
      "text/plain": [
       "plot without title"
      ]
     },
     "metadata": {
      "image/png": {
       "height": 420,
       "width": 420
      }
     },
     "output_type": "display_data"
    }
   ],
   "source": [
    "boxplot(MPG ~ Car,ylab = 'MPG')"
   ]
  },
  {
   "cell_type": "markdown",
   "id": "acf62545",
   "metadata": {},
   "source": [
    "The above plot is a boxplot of MPG against cars. It looks like there is a significant difference in gasoline consumption for different cars. ANOVA test ($null hypothesis : \\mu_{1}=\\mu_{2}=\\mu_{3}=\\mu_{4}=\\mu_{5}$) can be carried out to validate this observation."
   ]
  },
  {
   "cell_type": "code",
   "execution_count": 11,
   "id": "c6adbb35",
   "metadata": {},
   "outputs": [
    {
     "data": {
      "text/html": [
       "<table class=\"dataframe\">\n",
       "<caption>A anova: 2 × 5</caption>\n",
       "<thead>\n",
       "\t<tr><th></th><th scope=col>Df</th><th scope=col>Sum Sq</th><th scope=col>Mean Sq</th><th scope=col>F value</th><th scope=col>Pr(&gt;F)</th></tr>\n",
       "\t<tr><th></th><th scope=col>&lt;int&gt;</th><th scope=col>&lt;dbl&gt;</th><th scope=col>&lt;dbl&gt;</th><th scope=col>&lt;dbl&gt;</th><th scope=col>&lt;dbl&gt;</th></tr>\n",
       "</thead>\n",
       "<tbody>\n",
       "\t<tr><th scope=row>Car</th><td> 4</td><td> 94.7135</td><td>23.678375</td><td>2.89521</td><td>0.03597349</td></tr>\n",
       "\t<tr><th scope=row>Residuals</th><td>35</td><td>286.2463</td><td> 8.178464</td><td>     NA</td><td>        NA</td></tr>\n",
       "</tbody>\n",
       "</table>\n"
      ],
      "text/latex": [
       "A anova: 2 × 5\n",
       "\\begin{tabular}{r|lllll}\n",
       "  & Df & Sum Sq & Mean Sq & F value & Pr(>F)\\\\\n",
       "  & <int> & <dbl> & <dbl> & <dbl> & <dbl>\\\\\n",
       "\\hline\n",
       "\tCar &  4 &  94.7135 & 23.678375 & 2.89521 & 0.03597349\\\\\n",
       "\tResiduals & 35 & 286.2463 &  8.178464 &      NA &         NA\\\\\n",
       "\\end{tabular}\n"
      ],
      "text/markdown": [
       "\n",
       "A anova: 2 × 5\n",
       "\n",
       "| <!--/--> | Df &lt;int&gt; | Sum Sq &lt;dbl&gt; | Mean Sq &lt;dbl&gt; | F value &lt;dbl&gt; | Pr(&gt;F) &lt;dbl&gt; |\n",
       "|---|---|---|---|---|---|\n",
       "| Car |  4 |  94.7135 | 23.678375 | 2.89521 | 0.03597349 |\n",
       "| Residuals | 35 | 286.2463 |  8.178464 |      NA |         NA |\n",
       "\n"
      ],
      "text/plain": [
       "          Df Sum Sq   Mean Sq   F value Pr(>F)    \n",
       "Car        4  94.7135 23.678375 2.89521 0.03597349\n",
       "Residuals 35 286.2463  8.178464      NA         NA"
      ]
     },
     "metadata": {},
     "output_type": "display_data"
    }
   ],
   "source": [
    "anova(lm(MPG ~ Car))"
   ]
  },
  {
   "cell_type": "markdown",
   "id": "62da959e",
   "metadata": {},
   "source": [
    "The ANOVA test supports our observation with a p-value of 0.036."
   ]
  },
  {
   "cell_type": "markdown",
   "id": "5fb26106",
   "metadata": {},
   "source": [
    "Let's see if there is interaction between the two variables (cars and drivers). "
   ]
  },
  {
   "cell_type": "code",
   "execution_count": 12,
   "id": "bfcf6e09",
   "metadata": {},
   "outputs": [
    {
     "data": {
      "image/png": "[encoded data removed]",
      "text/plain": [
       "plot without title"
      ]
     },
     "metadata": {
      "image/png": {
       "height": 420,
       "width": 420
      }
     },
     "output_type": "display_data"
    }
   ],
   "source": [
    "interaction.plot(Car,Driver,MPG,ylab = \"mean of MPG\")"
   ]
  },
  {
   "cell_type": "markdown",
   "id": "ebb816c6",
   "metadata": {},
   "source": [
    "The above plot is the interaction plot between drivers and cars. The MPG vs car plots for different drivers are parallel, this indicates that there is no interaction between the variables car and driver."
   ]
  },
  {
   "cell_type": "markdown",
   "id": "969f6755",
   "metadata": {},
   "source": [
    "From the exploratory analysis, we have observed:\n",
    "1. Gasoline consumption is normally distributed.\n",
    "2. The variables Driver and Car have significant effect on the gasoline consumption.\n",
    "3. There is no interaction between Driver and Car variables."
   ]
  },
  {
   "cell_type": "markdown",
   "id": "46a8cc76",
   "metadata": {},
   "source": [
    "## Fixed Effects Model Fitting, Diagnostics and Evaluation "
   ]
  },
  {
   "cell_type": "markdown",
   "id": "31b8760f",
   "metadata": {},
   "source": [
    "### Fitting Fixed Effects Model "
   ]
  },
  {
   "cell_type": "markdown",
   "id": "cdf446c8",
   "metadata": {},
   "source": [
    "A fixed effects model can be fitted if the objective of the study is limited to analysing just the 4 drivers and 5 cars or if there are pre-existing clusters corresponding to each level of the factor variables which exhaust the entire study population (Driver = 1 in data corresponds to a group of similar drivers and not a single driver). Let's assume one of them is the case and fit a fixed effects model."
   ]
  },
  {
   "cell_type": "markdown",
   "id": "0419aba8",
   "metadata": {},
   "source": [
    "From the conclusions of the exploratory analysis, it would be ideal to fit a Gaussian generalized linear model with linear link function (same estimates and results as OLS regression) and Cars, Drivers as fixed effects (model1).\n",
    "\n",
    "As Gasoline consumption is always greater than 0, let's consider fitting a Gamma generalised linear model with log link function as it helps in restricting the predictions to realistic values (model2)."
   ]
  },
  {
   "cell_type": "markdown",
   "id": "8b0842e2",
   "metadata": {},
   "source": [
    "Fitting the 2 models mentioned above:"
   ]
  },
  {
   "cell_type": "code",
   "execution_count": 13,
   "id": "0fe385ec",
   "metadata": {},
   "outputs": [],
   "source": [
    "model1 = glm(MPG ~ Driver + Car, family = gaussian())\n",
    "model2 = glm(MPG ~ Driver + Car, family = Gamma(link = \"log\"))"
   ]
  },
  {
   "cell_type": "markdown",
   "id": "76019e86",
   "metadata": {},
   "source": [
    "### Model Diagnostics "
   ]
  },
  {
   "cell_type": "markdown",
   "id": "6f70151c",
   "metadata": {},
   "source": [
    "Though we have fit the ideal models based on the exploratory analysis, the data themselves may indicate that a particular model is unsuitable. Thus, model diagnostics is an important precautionary step."
   ]
  },
  {
   "cell_type": "markdown",
   "id": "7fbd53d9",
   "metadata": {},
   "source": [
    "Diagnostics of the 3 models:\n",
    "1. Informal check using deviance residuals: Standardized deviance residuals are plotted against the fitted values transformed to the constant-information scale of the error distribution.(2log($\\hat{\\mu}$) for gamma glm and $\\hat{\\mu}$ for normal glm(since the transformation is identity))"
   ]
  },
  {
   "cell_type": "code",
   "execution_count": 14,
   "id": "7976b035",
   "metadata": {},
   "outputs": [
    {
     "data": {
      "image/png": "[encoded data removed]",
      "text/plain": [
       "Plot with title \"Model2\""
      ]
     },
     "metadata": {
      "image/png": {
       "height": 420,
       "width": 420
      }
     },
     "output_type": "display_data"
    }
   ],
   "source": [
    "par(mfrow = c(2,1))\n",
    "plot(fitted(model1),rstandard(model1,type = \"deviance\"),xlab = \"Transformed fitted values\",ylab = \"Standardized deviance residuals\",main = \"Model1\")\n",
    "plot(2*log(fitted(model2)),rstandard(model2,type = \"deviance\"),xlab = \"Transformed fitted values\",ylab = \"Standardized deviance residuals\",main = \"Model2\")"
   ]
  },
  {
   "cell_type": "markdown",
   "id": "a50dc178",
   "metadata": {},
   "source": [
    "The null pattern of this plot is a distribution of residuals for varying $\\hat{\\mu}$ with mean 0 and constant range. Both the models have a null pattern."
   ]
  },
  {
   "cell_type": "markdown",
   "id": "5fcf4e99",
   "metadata": {},
   "source": [
    "2. Checking the link function: A plot of the adjusted dependent variable $z_{i}=\\hat{\\eta}_{i}+(y_{i}-\\hat{\\mu}_{i})(\\frac{\\partial\\eta_{i}}{\\partial\\mu_{i}})_{\\beta=\\hat{\\beta}}$ against $\\hat{\\eta}_{i}$ gives an informal check on the link function."
   ]
  },
  {
   "cell_type": "code",
   "execution_count": 15,
   "id": "64115ef4",
   "metadata": {},
   "outputs": [
    {
     "data": {
      "image/png": "[encoded data removed]",
      "text/plain": [
       "Plot with title \"Model 2\""
      ]
     },
     "metadata": {
      "image/png": {
       "height": 420,
       "width": 420
      }
     },
     "output_type": "display_data"
    }
   ],
   "source": [
    "par(mfrow = c(2,1))\n",
    "plot(fitted(model1), MPG, xlab = \"Eta hat\", ylab = \"z\", main = \"Model 1\")\n",
    "plot(log(fitted(model1)),log(fitted(model1)) + (MPG-fitted(model1))/(fitted(model1)),xlab = \"Eta hat\",ylab = \"z\",main = \"Model 2\")"
   ]
  },
  {
   "cell_type": "markdown",
   "id": "e3b0731b",
   "metadata": {},
   "source": [
    "The null pattern of this plot is a straight line. Both the models do not have curvature and therefore have a null pattern indicating there are no concerns with link function."
   ]
  },
  {
   "cell_type": "markdown",
   "id": "e2e1c5cd",
   "metadata": {},
   "source": [
    "3. Checking the model fit: A plot of actual and the fitted values of dependent variable against independent variable gives an informal check on the prediction accuracy and model fit."
   ]
  },
  {
   "cell_type": "code",
   "execution_count": 16,
   "id": "3b18a519",
   "metadata": {},
   "outputs": [
    {
     "data": {
      "image/png": "[encoded data removed]",
      "text/plain": [
       "plot without title"
      ]
     },
     "metadata": {
      "image/png": {
       "height": 360,
       "width": 600
      }
     },
     "output_type": "display_data"
    }
   ],
   "source": [
    "library(ggplot2)\n",
    "library(gridExtra)\n",
    "options(repr.plot.width=10,repr.plot.height=6)\n",
    "\n",
    "mpg = c(MPG,fitted(model1))  \n",
    "car = c(Car,Car)  \n",
    "driver = c(Driver,Driver)\n",
    "fitted = c(rep(0,40),rep(1,40))\n",
    "\n",
    "df = data.frame(mpg,car,driver,fitted)\n",
    "\n",
    "df$driver = factor(df$driver)\n",
    "df$fitted = factor(df$fitted)\n",
    "\n",
    "plot1 = ggplot(df, aes(x=car, y=mpg, color=driver, shape=fitted)) +\n",
    "               geom_point(size = 3) + \n",
    "               scale_color_manual(values=c('red','orange','blue','darkgreen')) +\n",
    "               scale_shape_manual(values=c(16,8)) +\n",
    "               ggtitle(\"Model 1\")\n",
    "\n",
    "mpg = c(MPG,fitted(model2))\n",
    "\n",
    "df = data.frame(mpg,car,driver,fitted)\n",
    "\n",
    "df$driver = factor(df$driver)\n",
    "df$fitted = factor(df$fitted)\n",
    "\n",
    "plot2 = ggplot(df, aes(x=car, y=mpg, color=driver, shape=fitted)) +\n",
    "               geom_point(size = 3) + \n",
    "               scale_color_manual(values=c('red','orange','blue','darkgreen')) +\n",
    "               scale_shape_manual(values=c(16,8)) +\n",
    "               ggtitle(\"Model 2\")\n",
    "\n",
    "grid.arrange(plot1,plot2,ncol = 2)"
   ]
  },
  {
   "cell_type": "markdown",
   "id": "d820311a",
   "metadata": {},
   "source": [
    "Both model1 and model2 seems to have an almost equal accuracy in predictions and raise no concerns."
   ]
  },
  {
   "cell_type": "markdown",
   "id": "f9ce3d24",
   "metadata": {},
   "source": [
    "Therefore, the model diagnostics conclude that there aren't any major issues or concerns for both the models."
   ]
  },
  {
   "cell_type": "markdown",
   "id": "bbe37411",
   "metadata": {},
   "source": [
    "### Model Evaluation "
   ]
  },
  {
   "cell_type": "markdown",
   "id": "604cfaf5",
   "metadata": {},
   "source": [
    "The parameters in the generalized linear model are estimated using Maximum-Likelihood method. Unlike Gaussian glm, the Maximum-Likelihood estimates in generalized linear models aren't same as the OLS estimates. So, it's important to choose Maximum-Likelihood based evaluation metrics."
   ]
  },
  {
   "cell_type": "markdown",
   "id": "f51eb653",
   "metadata": {},
   "source": [
    "1. Akaike Information Criterion(AIC): It is an evaluation metric used to compare different possible models and determine which one is the best fit. According to AIC, the best fit model will be the one that neither under-fits nor over-fits. The best fitted model among a set of models is the one with least AIC.$$AIC=2k-2ln(\\hat{L})$$where k = number of estimated parameters in the model and $\\hat{L}$= maximum value of the likelihood function of the model."
   ]
  },
  {
   "cell_type": "markdown",
   "id": "eb6edc08",
   "metadata": {},
   "source": [
    "2. Cox-Snell Pseudo-$R^{2}$: It is based on the log-likelihood of the model compared to the log-likelihood of a baseline model. According to pseudo-$R^{2}$, the best fit model will be the one that best predicts the observed values. The model with largest pseudo-$R^{2}$ is best fitted model according to this metric. However, this metric alone can be quite misleading as it doesn't account for the over-fitting.$$Cox-Snell R^{2}=1-(\\frac{L_{0}}{L_{M}})^{\\frac{2}{n}}$$where $L_{M}$= maximum value of the likelihood function of the model M and $L_{0}$= the value of likelihood function for a model with no predictors."
   ]
  },
  {
   "cell_type": "code",
   "execution_count": 17,
   "id": "977dbc4a",
   "metadata": {},
   "outputs": [
    {
     "name": "stderr",
     "output_type": "stream",
     "text": [
      "Loading required package: zoo\n",
      "\n",
      "\n",
      "Attaching package: 'zoo'\n",
      "\n",
      "\n",
      "The following objects are masked from 'package:base':\n",
      "\n",
      "    as.Date, as.Date.numeric\n",
      "\n",
      "\n"
     ]
    },
    {
     "data": {
      "text/html": [
       "<table class=\"dataframe\">\n",
       "<caption>A matrix: 2 × 3 of type chr</caption>\n",
       "<thead>\n",
       "\t<tr><th scope=col>Model</th><th scope=col>AIC</th><th scope=col>CoxSnell_PseudoR2</th></tr>\n",
       "</thead>\n",
       "<tbody>\n",
       "\t<tr><td>Model1</td><td>55.3727895823784</td><td>0.984351365203279</td></tr>\n",
       "\t<tr><td>Model2</td><td>61.5587996922697</td><td>0.981389906832883</td></tr>\n",
       "</tbody>\n",
       "</table>\n"
      ],
      "text/latex": [
       "A matrix: 2 × 3 of type chr\n",
       "\\begin{tabular}{lll}\n",
       " Model & AIC & CoxSnell\\_PseudoR2\\\\\n",
       "\\hline\n",
       "\t Model1 & 55.3727895823784 & 0.984351365203279\\\\\n",
       "\t Model2 & 61.5587996922697 & 0.981389906832883\\\\\n",
       "\\end{tabular}\n"
      ],
      "text/markdown": [
       "\n",
       "A matrix: 2 × 3 of type chr\n",
       "\n",
       "| Model | AIC | CoxSnell_PseudoR2 |\n",
       "|---|---|---|\n",
       "| Model1 | 55.3727895823784 | 0.984351365203279 |\n",
       "| Model2 | 61.5587996922697 | 0.981389906832883 |\n",
       "\n"
      ],
      "text/plain": [
       "     Model  AIC              CoxSnell_PseudoR2\n",
       "[1,] Model1 55.3727895823784 0.984351365203279\n",
       "[2,] Model2 61.5587996922697 0.981389906832883"
      ]
     },
     "metadata": {},
     "output_type": "display_data"
    }
   ],
   "source": [
    "library(lmtest)\n",
    "Model = c(\"Model1\",\"Model2\")\n",
    "AIC = c(AIC(model1),AIC(model2))\n",
    "CoxSnell_PseudoR2 = c(1-(exp(lrtest(model1)$LogLik[2])/exp(lrtest(model1)$LogLik[1]))^(2/nrow(mpg3)),\n",
    "                      1-(exp(lrtest(model2)$LogLik[2])/exp(lrtest(model2)$LogLik[1]))^(2/nrow(mpg3)))\n",
    "Modelevaluation = cbind(Model,AIC,CoxSnell_PseudoR2)\n",
    "Modelevaluation"
   ]
  },
  {
   "cell_type": "markdown",
   "id": "3b19348a",
   "metadata": {},
   "source": [
    "Therefore, model1 is a slightly better fit compared to model2."
   ]
  },
  {
   "cell_type": "markdown",
   "id": "2f614edb",
   "metadata": {},
   "source": [
    "### Fitting Random Effects Model"
   ]
  },
  {
   "cell_type": "markdown",
   "id": "1ee3cd74",
   "metadata": {},
   "source": [
    "“When a sample exhausts the population, the corresponding variable is fixed; when the sample is a small (i.e., negligible) part of the population the corresponding variable is random.” (Green and Tukey, 1960).\n",
    "\n",
    "Suppose we have sampled out 5 cars and 4 drivers from a large population, then both the variables are random and it would be most appropriate to fit a random effects model."
   ]
  },
  {
   "cell_type": "markdown",
   "id": "eba6e6ea",
   "metadata": {},
   "source": [
    "As the model1 is more accurate compared to model2, we now fit a model with the same variance function, link function as model1 and with variables Car and Driver taken as random effects."
   ]
  },
  {
   "cell_type": "code",
   "execution_count": 18,
   "id": "f42886f9",
   "metadata": {},
   "outputs": [
    {
     "name": "stderr",
     "output_type": "stream",
     "text": [
      "Loading required package: Matrix\n",
      "\n"
     ]
    },
    {
     "data": {
      "text/plain": [
       "Linear mixed model fit by maximum likelihood  ['lmerMod']\n",
       "Formula: MPG ~ (1 | Driver) + (1 | Car)\n",
       "   Data: mpg3\n",
       "\n",
       "     AIC      BIC   logLik deviance df.resid \n",
       "    97.7    104.4    -44.8     89.7       36 \n",
       "\n",
       "Scaled residuals: \n",
       "    Min      1Q  Median      3Q     Max \n",
       "-1.5411 -0.6018 -0.1011  0.6117  2.0342 \n",
       "\n",
       "Random effects:\n",
       " Groups   Name        Variance Std.Dev.\n",
       " Car      (Intercept) 2.7744   1.6656  \n",
       " Driver   (Intercept) 7.4158   2.7232  \n",
       " Residual             0.1863   0.4316  \n",
       "Number of obs: 40, groups:  Car, 5; Driver, 4\n",
       "\n",
       "Fixed effects:\n",
       "            Estimate Std. Error t value\n",
       "(Intercept)   30.047      1.554   19.34"
      ]
     },
     "metadata": {},
     "output_type": "display_data"
    }
   ],
   "source": [
    "library(lme4)\n",
    "REM = lmer(MPG ~ (1|Driver) + (1|Car),REML = F,data = mpg3)\n",
    "summary(REM)"
   ]
  },
  {
   "cell_type": "markdown",
   "id": "24ac46d2",
   "metadata": {},
   "source": [
    "Therefore, the Population model is:$$E(MPG|Driver,Car)=30.048+N(0,1.6656)+N(0,2.7232)$$"
   ]
  },
  {
   "cell_type": "code",
   "execution_count": 19,
   "id": "7a8d96a0",
   "metadata": {},
   "outputs": [
    {
     "name": "stderr",
     "output_type": "stream",
     "text": [
      "\n",
      "Attaching package: 'lmerTest'\n",
      "\n",
      "\n",
      "The following object is masked from 'package:lme4':\n",
      "\n",
      "    lmer\n",
      "\n",
      "\n",
      "The following object is masked from 'package:stats':\n",
      "\n",
      "    step\n",
      "\n",
      "\n"
     ]
    },
    {
     "data": {
      "text/html": [
       "<table class=\"dataframe\">\n",
       "<caption>A anova: 3 × 6</caption>\n",
       "<thead>\n",
       "\t<tr><th></th><th scope=col>npar</th><th scope=col>logLik</th><th scope=col>AIC</th><th scope=col>LRT</th><th scope=col>Df</th><th scope=col>Pr(&gt;Chisq)</th></tr>\n",
       "\t<tr><th></th><th scope=col>&lt;int&gt;</th><th scope=col>&lt;dbl&gt;</th><th scope=col>&lt;dbl&gt;</th><th scope=col>&lt;dbl&gt;</th><th scope=col>&lt;dbl&gt;</th><th scope=col>&lt;dbl&gt;</th></tr>\n",
       "</thead>\n",
       "<tbody>\n",
       "\t<tr><th scope=row>&lt;none&gt;</th><td>4</td><td> -44.83636</td><td> 97.67272</td><td>       NA</td><td>NA</td><td>          NA</td></tr>\n",
       "\t<tr><th scope=row>(1 | Driver)</th><td>3</td><td>-100.88741</td><td>207.77483</td><td>112.10211</td><td> 1</td><td>3.393738e-26</td></tr>\n",
       "\t<tr><th scope=row>(1 | Car)</th><td>3</td><td> -83.76738</td><td>173.53476</td><td> 77.86204</td><td> 1</td><td>1.104947e-18</td></tr>\n",
       "</tbody>\n",
       "</table>\n"
      ],
      "text/latex": [
       "A anova: 3 × 6\n",
       "\\begin{tabular}{r|llllll}\n",
       "  & npar & logLik & AIC & LRT & Df & Pr(>Chisq)\\\\\n",
       "  & <int> & <dbl> & <dbl> & <dbl> & <dbl> & <dbl>\\\\\n",
       "\\hline\n",
       "\t<none> & 4 &  -44.83636 &  97.67272 &        NA & NA &           NA\\\\\n",
       "\t(1 \\textbar{} Driver) & 3 & -100.88741 & 207.77483 & 112.10211 &  1 & 3.393738e-26\\\\\n",
       "\t(1 \\textbar{} Car) & 3 &  -83.76738 & 173.53476 &  77.86204 &  1 & 1.104947e-18\\\\\n",
       "\\end{tabular}\n"
      ],
      "text/markdown": [
       "\n",
       "A anova: 3 × 6\n",
       "\n",
       "| <!--/--> | npar &lt;int&gt; | logLik &lt;dbl&gt; | AIC &lt;dbl&gt; | LRT &lt;dbl&gt; | Df &lt;dbl&gt; | Pr(&gt;Chisq) &lt;dbl&gt; |\n",
       "|---|---|---|---|---|---|---|\n",
       "| &lt;none&gt; | 4 |  -44.83636 |  97.67272 |        NA | NA |           NA |\n",
       "| (1 | Driver) | 3 | -100.88741 | 207.77483 | 112.10211 |  1 | 3.393738e-26 |\n",
       "| (1 | Car) | 3 |  -83.76738 | 173.53476 |  77.86204 |  1 | 1.104947e-18 |\n",
       "\n"
      ],
      "text/plain": [
       "             npar logLik     AIC       LRT       Df Pr(>Chisq)  \n",
       "<none>       4     -44.83636  97.67272        NA NA           NA\n",
       "(1 | Driver) 3    -100.88741 207.77483 112.10211  1 3.393738e-26\n",
       "(1 | Car)    3     -83.76738 173.53476  77.86204  1 1.104947e-18"
      ]
     },
     "metadata": {},
     "output_type": "display_data"
    }
   ],
   "source": [
    "library(lmerTest)\n",
    "rand(REM)"
   ]
  },
  {
   "cell_type": "markdown",
   "id": "a40b351e",
   "metadata": {},
   "source": [
    "From the anova-like table for the random effects, p-value << 0.05 for both Driver and Car indicate that both the random effects are significant."
   ]
  },
  {
   "cell_type": "markdown",
   "id": "e370cf7e",
   "metadata": {},
   "source": [
    "Considering a variable as a fixed or random effect should be dependent upon the study population and type of the variable to get an interpretable and meaningful result. "
   ]
  }
 ],
 "metadata": {
  "kernelspec": {
   "display_name": "R",
   "language": "R",
   "name": "ir"
  },
  "language_info": {
   "codemirror_mode": "r",
   "file_extension": ".r",
   "mimetype": "text/x-r-source",
   "name": "R",
   "pygments_lexer": "r",
   "version": "4.0.5"
  }
 },
 "nbformat": 4,
 "nbformat_minor": 5
}
